{
 "cells": [
  {
   "cell_type": "code",
   "execution_count": 7,
   "metadata": {},
   "outputs": [
    {
     "data": {
      "text/plain": [
       "True"
      ]
     },
     "execution_count": 7,
     "metadata": {},
     "output_type": "execute_result"
    }
   ],
   "source": [
    "import json\n",
    "import os \n",
    "\n",
    "from typing import Annotated\n",
    "\n",
    "from dotenv import load_dotenv\n",
    "\n",
    "from IPython.display import display, HTML\n",
    "from tmdbv3api import TMDb, Genre\n",
    "from openai import AsyncOpenAI\n",
    "from tmdbv3api import TMDb\n",
    "from semantic_kernel.agents import ChatCompletionAgent, ChatHistoryAgentThread\n",
    "from semantic_kernel.connectors.ai.open_ai import OpenAIChatCompletion\n",
    "from semantic_kernel.contents import FunctionCallContent, FunctionResultContent, StreamingTextContent\n",
    "from semantic_kernel.functions import kernel_function\n",
    "from tmdbv3api import TMDb, Discover\n",
    "from tmdbv3api import Movie\n",
    "import pandas as pd\n",
    "from datetime import datetime\n",
    "from tmdbv3api import TMDb, Discover\n",
    "import os, json\n",
    "from tmdbv3api import TMDb, Genre, Discover\n",
    "import semantic_kernel as sk\n",
    "\n",
    "load_dotenv()"
   ]
  },
  {
   "cell_type": "code",
   "execution_count": 9,
   "metadata": {},
   "outputs": [],
   "source": [
    "tmdb = TMDb()\n",
    "tmdb.api_key=os.environ.get('TMDB_KEY')"
   ]
  },
  {
   "cell_type": "code",
   "execution_count": 11,
   "metadata": {},
   "outputs": [],
   "source": [
    "# Initialize TMDb with your API key\n",
    "tmdb = TMDb()\n",
    "tmdb.api_key ='2fa30f6a1d22eb80c6dc9cac9cc67bdc'\n",
    "# Fetch the official list of movie genres\n",
    "genre_client = Genre()\n",
    "all_genres = genre_client.movie_list()\n",
    "\n",
    "# Build a name→ID lookup (lowercased keys)\n",
    "GENRE_MAP = {g.name.lower(): g.id for g in all_genres}\n",
    "\n",
    "# Create a Discover instance for querying movies\n",
    "discover = Discover()\n",
    "\n",
    "client = AsyncOpenAI(\n",
    "    api_key=os.environ.get(\"GITHUB_TOKEN\"), \n",
    "    base_url=\"https://models.inference.ai.azure.com/\",\n",
    ")\n",
    "\n",
    "# Create an AI Service that will be used by the `ChatCompletionAgent`\n",
    "chat_completion_service = OpenAIChatCompletion(\n",
    "    ai_model_id=\"gpt-4o-mini\",\n",
    "    async_client=client,\n",
    ")"
   ]
  },
  {
   "cell_type": "code",
   "execution_count": 16,
   "metadata": {},
   "outputs": [],
   "source": [
    "def recommend_movies(\n",
    "    genre_id: int,\n",
    "    preference: str = \"newer\",\n",
    "    top_n: int    = 5,\n",
    "    weight_pop: float = 0.5,\n",
    "    weight_vote: float = 0.5\n",
    "):\n",
    "    \"\"\"\n",
    "    Fetch page 1 for `genre_id`, score by weighted(popularity, vote_average),\n",
    "    filter by age (≤5 yrs new vs >5 yrs old), return top_n dicts.\n",
    "    \"\"\"\n",
    "    current_year = datetime.now().year\n",
    "    raw = discover.discover_movies({\n",
    "        \"with_genres\": genre_id,\n",
    "        \"sort_by\":     \"popularity.desc\",\n",
    "        \"page\":        1\n",
    "    })\n",
    "    scored = []\n",
    "    for m in raw:\n",
    "        try:\n",
    "            year = int(m.release_date[:4])\n",
    "        except:\n",
    "            continue\n",
    "        age = current_year - year\n",
    "        if preference == \"newer\" and age > 5:  continue\n",
    "        if preference == \"older\" and age <= 5: continue\n",
    "        score = weight_pop * m.popularity + weight_vote * m.vote_average\n",
    "        scored.append({\"title\": m.title, \"year\": year, \"score\": score})\n",
    "    return sorted(scored, key=lambda x: x[\"score\"], reverse=True)[:top_n]"
   ]
  },
  {
   "cell_type": "code",
   "execution_count": 17,
   "metadata": {},
   "outputs": [],
   "source": [
    "class MoviePlugin:\n",
    "    @kernel_function(description=\"Recommend movies by genre (name or ID), date preference, and number of results\")\n",
    "    def recommend(\n",
    "        self,\n",
    "        genre: str,\n",
    "        preference: str = \"newer\",\n",
    "        top_n: str    = \"5\"\n",
    "    ) -> str:\n",
    "        if genre.isdigit():\n",
    "            gid = int(genre)\n",
    "        else:\n",
    "            gid = GENRE_MAP.get(genre.lower())\n",
    "            if gid is None:\n",
    "                return (\n",
    "                    f\"Unknown genre '{genre}'. \"\n",
    "                    f\"Available: {', '.join(GENRE_MAP.keys())}\"\n",
    "                )\n",
    "        try:\n",
    "            n = int(top_n)\n",
    "        except:\n",
    "            n = 5\n",
    "\n",
    "        recs = recommend_movies(genre_id=gid, preference=preference, top_n=n)\n",
    "\n",
    "        return \"\\n\".join(\n",
    "            f\"{i+1}. {m['title']} ({m['year']}) — score={m['score']:.2f}\"\n",
    "            for i, m in enumerate(recs)\n",
    "        )"
   ]
  },
  {
   "cell_type": "code",
   "execution_count": 18,
   "metadata": {},
   "outputs": [],
   "source": [
    "agent = ChatCompletionAgent(\n",
    "    service=chat_completion_service, \n",
    "    plugins=[MoviePlugin()],\n",
    "    name=\"MovieAgent\",\n",
    "    instructions=\"You will identify the preferred genres that the customer wants based on their prompt\",\n",
    ")\n"
   ]
  },
  {
   "cell_type": "code",
   "execution_count": 19,
   "metadata": {},
   "outputs": [
    {
     "data": {
      "text/html": [
       "<div style='margin-bottom:10px'><div style='font-weight:bold'>User:</div><div style='margin-left:20px'>I like comedy movies recommend me some.</div></div><div style='margin-bottom:20px'><div style='font-weight:bold'>MovieAgent:</div><div style='margin-left:20px; white-space:pre-wrap'>Here are some comedy movies I recommend:\n",
       "\n",
       "1. **A Minecraft Movie** (2025) — Score: 239.83\n",
       "2. **Novocaine** (2025) — Score: 112.01\n",
       "3. **Moana 2** (2024) — Score: 76.82\n",
       "4. **Sonic the Hedgehog 3** (2024) — Score: 72.09\n",
       "5. **Laila** (2025) — Score: 68.29\n",
       "\n",
       "Enjoy your movie time!</div></div><hr>"
      ],
      "text/plain": [
       "<IPython.core.display.HTML object>"
      ]
     },
     "metadata": {},
     "output_type": "display_data"
    },
    {
     "data": {
      "text/html": [
       "<div style='margin-bottom:10px'><div style='font-weight:bold'>User:</div><div style='margin-left:20px'>I don't like that one, please show me horror.</div></div><div style='margin-bottom:20px'><div style='font-weight:bold'>MovieAgent:</div><div style='margin-left:20px; white-space:pre-wrap'>Here are some horror movies I recommend:\n",
       "\n",
       "1. **Sinners** (2025) — Score: 131.84\n",
       "2. **Ash** (2025) — Score: 100.76\n",
       "3. **The Woman in the Yard** (2025) — Score: 92.49\n",
       "4. **Locked** (2025) — Score: 85.37\n",
       "5. **Home Sweet Home: Rebirth** (2025) — Score: 56.15\n",
       "\n",
       "I hope you find something you like!</div></div><hr>"
      ],
      "text/plain": [
       "<IPython.core.display.HTML object>"
      ]
     },
     "metadata": {},
     "output_type": "display_data"
    }
   ],
   "source": [
    "user_inputs = [\n",
    "    \"I like comedy movies recommend me some.\",\n",
    "    \"I don't like that one, please show me horror.\",\n",
    "]\n",
    "\n",
    "async def main():\n",
    "    thread: ChatHistoryAgentThread | None = None\n",
    "\n",
    "    for user_input in user_inputs:\n",
    "        html_output = (\n",
    "            f\"<div style='margin-bottom:10px'>\"\n",
    "            f\"<div style='font-weight:bold'>User:</div>\"\n",
    "            f\"<div style='margin-left:20px'>{user_input}</div></div>\"\n",
    "        )\n",
    "\n",
    "        agent_name = None\n",
    "        full_response: list[str] = []\n",
    "        function_calls: list[str] = []\n",
    "\n",
    "        # Buffer to reconstruct streaming function call\n",
    "        current_function_name = None\n",
    "        argument_buffer = \"\"\n",
    "\n",
    "        async for response in agent.invoke_stream(\n",
    "            messages=user_input,\n",
    "            thread=thread,\n",
    "        ):\n",
    "            thread = response.thread\n",
    "            agent_name = response.name\n",
    "            content_items = list(response.items)\n",
    "\n",
    "            for item in content_items:\n",
    "                if isinstance(item, FunctionCallContent):\n",
    "                    if item.function_name:\n",
    "                        current_function_name = item.function_name\n",
    "\n",
    "                    # Accumulate arguments (streamed in chunks)\n",
    "                    if isinstance(item.arguments, str):\n",
    "                        argument_buffer += item.arguments\n",
    "                elif isinstance(item, FunctionResultContent):\n",
    "                    # Finalize any pending function call before showing result\n",
    "                    if current_function_name:\n",
    "                        formatted_args = argument_buffer.strip()\n",
    "                        try:\n",
    "                            parsed_args = json.loads(formatted_args)\n",
    "                            formatted_args = json.dumps(parsed_args)\n",
    "                        except Exception:\n",
    "                            pass  \n",
    "\n",
    "                        function_calls.append(f\"Calling function: {current_function_name}({formatted_args})\")\n",
    "                        current_function_name = None\n",
    "                        argument_buffer = \"\"\n",
    "\n",
    "                    function_calls.append(f\"\\nFunction Result:\\n\\n{item.result}\")\n",
    "                elif isinstance(item, StreamingTextContent) and item.text:\n",
    "                    full_response.append(item.text)\n",
    "\n",
    "        if function_calls:\n",
    "            html_output += (\n",
    "                \"<div style='margin-bottom:10px'>\"\n",
    "                \"<details>\"\n",
    "                \"<summary style='cursor:pointer; font-weight:bold; color:#0066cc;'>Function Calls (click to expand)</summary>\"\n",
    "                \"<div style='margin:10px; padding:10px; background-color:#f8f8f8; \"\n",
    "                \"border:1px solid #ddd; border-radius:4px; white-space:pre-wrap; font-size:14px; color:#333;'>\"\n",
    "                f\"{chr(10).join(function_calls)}\"\n",
    "                \"</div></details></div>\"\n",
    "            )\n",
    "\n",
    "        html_output += (\n",
    "            \"<div style='margin-bottom:20px'>\"\n",
    "            f\"<div style='font-weight:bold'>{agent_name or 'Assistant'}:</div>\"\n",
    "            f\"<div style='margin-left:20px; white-space:pre-wrap'>{''.join(full_response)}</div></div><hr>\"\n",
    "        )\n",
    "\n",
    "        display(HTML(html_output))\n",
    "\n",
    "await main()"
   ]
  },
  {
   "cell_type": "code",
   "execution_count": null,
   "metadata": {},
   "outputs": [],
   "source": []
  }
 ],
 "metadata": {
  "kernelspec": {
   "display_name": "mtind_venv",
   "language": "python",
   "name": "python3"
  },
  "language_info": {
   "codemirror_mode": {
    "name": "ipython",
    "version": 3
   },
   "file_extension": ".py",
   "mimetype": "text/x-python",
   "name": "python",
   "nbconvert_exporter": "python",
   "pygments_lexer": "ipython3",
   "version": "3.11.11"
  }
 },
 "nbformat": 4,
 "nbformat_minor": 2
}
