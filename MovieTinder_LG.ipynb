{
 "cells": [
  {
   "cell_type": "code",
   "execution_count": 7,
   "metadata": {},
   "outputs": [],
   "source": [
    "from typing import Dict, List\n",
    "from langchain_core.messages import HumanMessage, AIMessage\n",
    "from langchain_core.prompts import ChatPromptTemplate\n",
    "from langchain_openai import ChatOpenAI\n",
    "from langchain_core.output_parsers import StrOutputParser\n",
    "\n",
    "# Define the questions\n",
    "QUESTIONS = [\n",
    "    \"Would you like to see movies from a specific genre?\",\n",
    "    \"What kind of mood? (e.g. lighthearted, intense, adventurous)\",\n",
    "    \"Which decade do you prefer? (e.g. 1980s, 1990s, 2000s)\",\n",
    "    \"Do you lean toward popular hits or hidden gems?\",\n",
    "    \"Any runtime preference? (e.g. < 90 min, 90–120 min, > 120 min)\"\n",
    "]\n",
    "\n",
    "QUESTION_KEYS = [\"genre\", \"mood\", \"decade\", \"popularity\", \"runtime\"]\n"
   ]
  },
  {
   "cell_type": "code",
   "execution_count": 8,
   "metadata": {},
   "outputs": [],
   "source": [
    "class MoviePreferenceAgent:\n",
    "    def __init__(self):\n",
    "        self.preferences = {}\n",
    "        self.current_question_index = 0\n",
    "        self.llm = ChatOpenAI(temperature=0)\n",
    "        self.output_parser = StrOutputParser()\n",
    "        \n",
    "        # Create the summary prompt\n",
    "        self.summary_prompt = ChatPromptTemplate.from_messages([\n",
    "            (\"system\", \"You are a helpful movie recommendation assistant. Create a friendly summary of the user's movie preferences.\"),\n",
    "            (\"human\", \"Here are the user's preferences:\\n{preferences}\\n\\nPlease create a friendly summary of these preferences.\")\n",
    "        ])\n",
    "        \n",
    "        # Create the chain for summarization\n",
    "        self.summary_chain = self.summary_prompt | self.llm | self.output_parser\n",
    "\n",
    "    def get_next_question(self) -> str:\n",
    "        \"\"\"Get the next question to ask.\"\"\"\n",
    "        if self.current_question_index < len(QUESTIONS):\n",
    "            return QUESTIONS[self.current_question_index]\n",
    "        return None\n",
    "\n",
    "    def process_answer(self, answer: str) -> str:\n",
    "        \"\"\"Process the user's answer and store it.\"\"\"\n",
    "        if self.current_question_index < len(QUESTIONS):\n",
    "            self.preferences[QUESTION_KEYS[self.current_question_index]] = answer\n",
    "            self.current_question_index += 1\n",
    "            return self.get_next_question()\n",
    "        return None\n",
    "\n",
    "    def get_summary(self) -> str:\n",
    "        \"\"\"Generate a summary of the collected preferences.\"\"\"\n",
    "        if not self.preferences:\n",
    "            return \"No preferences collected yet.\"\n",
    "            \n",
    "        # Format preferences for the prompt\n",
    "        preferences_text = \"\\n\".join([\n",
    "            f\"{QUESTIONS[i]}\\n→ {self.preferences[key]}\"\n",
    "            for i, key in enumerate(QUESTION_KEYS)\n",
    "            if key in self.preferences\n",
    "        ])\n",
    "        \n",
    "        # Generate summary using the LLM\n",
    "        summary = self.summary_chain.invoke({\"preferences\": preferences_text})\n",
    "        return summary\n"
   ]
  },
  {
   "cell_type": "code",
   "execution_count": 9,
   "metadata": {},
   "outputs": [],
   "source": [
    "def main():\n",
    "    # Create the agent\n",
    "    agent = MoviePreferenceAgent()\n",
    "    \n",
    "    # Start the conversation\n",
    "    print(\"Welcome to the Movie Preference Assistant!\")\n",
    "    print(\"I'll ask you a few questions to understand your movie preferences.\\n\")\n",
    "    \n",
    "    # Ask questions and collect answers\n",
    "    while True:\n",
    "        question = agent.get_next_question()\n",
    "        if not question:\n",
    "            break\n",
    "            \n",
    "        print(f\"\\nAgent: {question}\")\n",
    "        answer = input(\"You: \").strip()\n",
    "        \n",
    "        if answer.lower() in ['quit', 'exit', 'stop']:\n",
    "            print(\"\\nAgent: Conversation ended. Here's a summary of what we discussed:\")\n",
    "            break\n",
    "            \n",
    "        agent.process_answer(answer)\n",
    "    \n",
    "    # Generate and display summary\n",
    "    summary = agent.get_summary()\n",
    "    print(\"\\nAgent: \" + summary)"
   ]
  },
  {
   "cell_type": "code",
   "execution_count": null,
   "metadata": {},
   "outputs": [],
   "source": [
    "if __name__ == \"__main__\":\n",
    "    main()"
   ]
  }
 ],
 "metadata": {
  "kernelspec": {
   "display_name": "MT_venv",
   "language": "python",
   "name": "python3"
  },
  "language_info": {
   "codemirror_mode": {
    "name": "ipython",
    "version": 3
   },
   "file_extension": ".py",
   "mimetype": "text/x-python",
   "name": "python",
   "nbconvert_exporter": "python",
   "pygments_lexer": "ipython3",
   "version": "3.11.11"
  }
 },
 "nbformat": 4,
 "nbformat_minor": 2
}
