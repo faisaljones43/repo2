{
 "cells": [
  {
   "cell_type": "code",
   "execution_count": 8,
   "id": "708a067f",
   "metadata": {},
   "outputs": [],
   "source": [
    "! pip install \\\n",
    "  autogen-agentchat \\\n",
    "  autogen-core~=0.4.5 \\\n",
    "  autogen-ext==0.4.5 \\\n",
    "  \"autogen-ext[azure]\" \\\n",
    "  azure-ai-inference~=1.0.0b8 \\\n",
    "  azure-ai-projects \\\n",
    "  azure-search-documents>=11.5.2 \\\n",
    "  chainlit \\\n",
    "  chromadb~=0.6.3 \\\n",
    "  ipykernel~=6.29.5 \\\n",
    "  \"mcp[cli]\" \\\n",
    "  mistralai~=0.4.2 \\\n",
    "  openai \\\n",
    "  pillow==11.0.0 \\\n",
    "  pydantic \\\n",
    "  python-dotenv~=1.0.1 \\\n",
    "  \"semantic-kernel>=1.27.2\" \\\n",
    "  \"semantic-kernel[azure]>=1.27.2\" \\\n",
    "  \"semantic-kernel[mcp]>=1.27.2\""
   ]
  },
  {
   "cell_type": "code",
   "execution_count": null,
   "id": "c6931fde",
   "metadata": {},
   "outputs": [],
   "source": [
    "import json\n",
    "import os \n",
    "\n",
    "from typing import Annotated\n",
    "\n",
    "from dotenv import load_dotenv\n",
    "\n",
    "from IPython.display import display, HTML\n",
    "from tmdbv3api import TMDb, Genre\n",
    "from openai import AsyncOpenAI\n",
    "from tmdbv3api import TMDb\n",
    "from semantic_kernel.agents import ChatCompletionAgent, ChatHistoryAgentThread\n",
    "from semantic_kernel.connectors.ai.open_ai import OpenAIChatCompletion\n",
    "from semantic_kernel.contents import FunctionCallContent, FunctionResultContent, StreamingTextContent\n",
    "from semantic_kernel.functions import kernel_function\n",
    "from tmdbv3api import TMDb, Discover\n",
    "from tmdbv3api import Movie\n",
    "import pandas as pd\n",
    "from datetime import datetime\n",
    "from tmdbv3api import TMDb, Discover\n",
    "import os, json\n",
    "from tmdbv3api import TMDb, Genre, Discover\n",
    "import semantic_kernel as sk"
   ]
  },
  {
   "cell_type": "code",
   "execution_count": null,
   "id": "0110c38c",
   "metadata": {},
   "outputs": [
    {
     "name": "stdout",
     "output_type": "stream",
     "text": [
      "Requirement already satisfied: tmdbv3api in c:\\users\\danie\\anaconda3\\conda-meta\\.conda\\lib\\site-packages (1.9.0)\n",
      "Requirement already satisfied: requests in c:\\users\\danie\\anaconda3\\conda-meta\\.conda\\lib\\site-packages (from tmdbv3api) (2.32.3)\n",
      "Requirement already satisfied: charset-normalizer<4,>=2 in c:\\users\\danie\\anaconda3\\conda-meta\\.conda\\lib\\site-packages (from requests->tmdbv3api) (3.4.1)\n",
      "Requirement already satisfied: idna<4,>=2.5 in c:\\users\\danie\\anaconda3\\conda-meta\\.conda\\lib\\site-packages (from requests->tmdbv3api) (3.10)\n",
      "Requirement already satisfied: urllib3<3,>=1.21.1 in c:\\users\\danie\\anaconda3\\conda-meta\\.conda\\lib\\site-packages (from requests->tmdbv3api) (2.4.0)\n",
      "Requirement already satisfied: certifi>=2017.4.17 in c:\\users\\danie\\anaconda3\\conda-meta\\.conda\\lib\\site-packages (from requests->tmdbv3api) (2025.1.31)\n"
     ]
    }
   ],
   "source": [
    "tmdb = TMDb()\n",
    "tmdb.api_key=\"2fa30f6a1d22eb80c6dc9cac9cc67bdc\""
   ]
  },
  {
   "cell_type": "code",
   "execution_count": null,
   "id": "576e8167",
   "metadata": {},
   "outputs": [
    {
     "name": "stdout",
     "output_type": "stream",
     "text": [
      "The Untouchables\n",
      "Elliot Ness, an ambitious prohibition agent, is determined to take down Al Capone. In order to achieve this goal, he forms a group given the nickname “The Untouchables”.\n",
      "Carlito's Way\n",
      "A Puerto-Rican ex-con, just released from prison, pledges to stay away from drugs and violence despite the pressure around him, and lead a better life outside NYC.\n",
      "Reservoir Dogs\n",
      "A botched robbery indicates a police informant, and the pressure mounts in the aftermath at a warehouse. Crime begets violence as the survivors -- veteran Mr. White, newcomer Mr. Orange, psychopathic parolee Mr. Blonde, bickering weasel Mr. Pink and Nice Guy Eddie -- unravel.\n",
      "Heat\n",
      "Obsessive master thief Neil McCauley leads a top-notch crew on various daring heists throughout Los Angeles while determined detective Vincent Hanna pursues him without rest. Each man recognizes and respects the ability and the dedication of the other even though they are aware their cat-and-mouse game may end in violence.\n",
      "GoodFellas\n",
      "The true story of Henry Hill, a half-Irish, half-Sicilian Brooklyn kid who is adopted by neighbourhood gangsters at an early age and climbs the ranks of a Mafia family under the guidance of Jimmy Conway.\n",
      "Blade Runner\n",
      "In the smog-choked dystopian Los Angeles of 2019, blade runner Rick Deckard is called out of retirement to terminate a quartet of replicants who have escaped to Earth seeking their creator for a way to extend their short life spans.\n",
      "Taxi Driver\n",
      "A mentally unstable Vietnam War veteran works as a night-time taxi driver in New York City where the perceived decadence and sleaze feed his urge for violent action.\n",
      "The Darjeeling Limited\n",
      "Three American brothers who have not spoken to each other in a year set off on a train voyage across India with a plan to find themselves and bond with each other -- to become brothers again like they used to be. Their \"spiritual quest\", however, veers rapidly off-course (due to events involving over-the-counter pain killers, Indian cough syrup, and pepper spray).\n",
      "Apocalypse Now\n",
      "At the height of the Vietnam war, Captain Benjamin Willard is sent on a dangerous mission that, officially, \"does not exist, nor will it ever exist.\" His goal is to locate - and eliminate - a mysterious Green Beret Colonel named Walter Kurtz, who has been leading his personal army on illegal guerrilla missions into enemy territory.\n",
      "Angel Heart\n",
      "A down-and-out Brooklyn detective is hired to track down a singer on an odyssey that will take him through the desperate streets of Harlem, the smoke-filled jazz clubs of New Orleans, and the swamps of Louisiana and its seedy underworld of voodoo.\n",
      "Ferris Bueller's Day Off\n",
      "After high school slacker Ferris Bueller successfully fakes an illness in order to skip school for the day, he goes on a series of adventures throughout Chicago with his girlfriend Sloane and best friend Cameron, all the while trying to outwit his wily school principal and fed-up sister.\n",
      "V for Vendetta\n",
      "In a world in which Great Britain has become a fascist state, a masked vigilante known only as “V” conducts guerrilla warfare against the oppressive British government. When V rescues a young woman from the secret police, he finds in her an ally with whom he can continue his fight to free the people of Britain.\n",
      "The Departed\n",
      "To take down South Boston's Irish Mafia, the police send in one of their own to infiltrate the underworld, not realizing the syndicate has done likewise. While an undercover cop curries favor with the mob kingpin, a career criminal rises through the police ranks. But both sides soon discover there's a mole among them.\n",
      "The Godfather\n",
      "Spanning the years 1945 to 1955, a chronicle of the fictional Italian-American Corleone crime family. When organized crime family patriarch, Vito Corleone barely survives an attempt on his life, his youngest son, Michael steps in to take care of the would-be killers, launching a campaign of bloody revenge.\n",
      "Vertigo\n",
      "A retired San Francisco detective suffering from acrophobia investigates the strange activities of an old friend's wife, all the while becoming dangerously obsessed with her.\n",
      "Day of the Dead\n",
      "A small group of scientists and soldiers take refuge in an underground missile silo where they struggle to control the flesh-eating dead that walks the Earth above.\n",
      "Full Metal Jacket\n",
      "A pragmatic U.S. Marine observes the dehumanizing effects the U.S.-Vietnam War has on his fellow recruits from their brutal boot camp training to the bloody street fighting in Hue.\n",
      "American Gangster\n",
      "Following the death of his employer and mentor, Bumpy Johnson, Frank Lucas establishes himself as the number one importer of heroin in the Harlem district of Manhattan. He does so by buying heroin directly from the source in South East Asia and he comes up with a unique way of importing the drugs into the United States. Partly based on a true story.\n",
      "The Godfather Part II\n",
      "In the continuing saga of the Corleone crime family, a young Vito Corleone grows up in Sicily and in 1910s New York. In the 1950s, Michael Corleone attempts to expand the family business into Las Vegas, Hollywood and Cuba.\n",
      "The Godfather Part III\n",
      "In the midst of trying to legitimize his business dealings in 1979 New York and Italy, aging mafia don, Michael Corleone seeks forgiveness for his sins while taking a young protege under his wing.\n"
     ]
    }
   ],
   "source": [
    "movie = Movie()\n",
    "\n",
    "recommendations = movie.recommendations(movie_id=111)\n",
    "\n",
    "for recommendation in recommendations:\n",
    "    print(recommendation.title)\n",
    "    print(recommendation.overview)"
   ]
  },
  {
   "cell_type": "code",
   "execution_count": null,
   "id": "5265500c",
   "metadata": {},
   "outputs": [
    {
     "name": "stdout",
     "output_type": "stream",
     "text": [
      "Requirement already satisfied: pandas in c:\\users\\danie\\anaconda3\\conda-meta\\.conda\\lib\\site-packages (2.2.3)\n",
      "Requirement already satisfied: numpy>=1.23.2 in c:\\users\\danie\\anaconda3\\conda-meta\\.conda\\lib\\site-packages (from pandas) (2.2.5)\n",
      "Requirement already satisfied: python-dateutil>=2.8.2 in c:\\users\\danie\\appdata\\roaming\\python\\python311\\site-packages (from pandas) (2.8.2)\n",
      "Requirement already satisfied: pytz>=2020.1 in c:\\users\\danie\\anaconda3\\conda-meta\\.conda\\lib\\site-packages (from pandas) (2025.2)\n",
      "Requirement already satisfied: tzdata>=2022.7 in c:\\users\\danie\\anaconda3\\conda-meta\\.conda\\lib\\site-packages (from pandas) (2025.2)\n",
      "Requirement already satisfied: six>=1.5 in c:\\users\\danie\\appdata\\roaming\\python\\python311\\site-packages (from python-dateutil>=2.8.2->pandas) (1.16.0)\n"
     ]
    },
    {
     "data": {
      "text/plain": [
       "{'page': 1, 'results': [{'adult': False, 'backdrop_path': '/k32XKMjmXMGeydykD32jfER3BVI.jpg', 'genre_ids': [28, 9648, 18], 'id': 1045938, 'original_language': 'en', 'original_title': 'G20', 'overview': 'After the G20 Summit is overtaken by terrorists, President Danielle Sutton must bring all her statecraft and military experience to defend her family and her fellow leaders.', 'popularity': 288.9191, 'poster_path': '/wv6oWAleCJZUk5htrGg413t3GCy.jpg', 'release_date': '2025-04-09', 'title': 'G20', 'video': False, 'vote_average': 6.651, 'vote_count': 361}, {'adult': False, 'backdrop_path': '/1YMrOtrW7b4pL2lfD8UciZPOJGs.jpg', 'genre_ids': [18, 53, 9648], 'id': 974576, 'original_language': 'en', 'original_title': 'Conclave', 'overview': 'After the unexpected death of the Pope, Cardinal Lawrence is tasked with managing the covert and ancient ritual of electing a new one. Sequestered in the Vatican with the Catholic Church’s most powerful leaders until the process is complete, Lawrence finds himself at the center of a conspiracy that could lead to its downfall.', 'popularity': 172.3536, 'poster_path': '/m5x8D0bZ3eKqIVWZ5y7TnZ2oTVg.jpg', 'release_date': '2024-10-25', 'title': 'Conclave', 'video': False, 'vote_average': 7.19, 'vote_count': 2011}, {'adult': False, 'backdrop_path': '/Zes06xI18u47pblwRGTtqRm0R8.jpg', 'genre_ids': [28, 53, 80, 18], 'id': 1276073, 'original_language': 'ja', 'original_title': '新幹線大爆破', 'overview': 'When panic erupts on a Tokyo-bound bullet train that will explode if it slows below 100 kph, authorities race against time to save everyone on board.', 'popularity': 150.8758, 'poster_path': '/qkTKtOHK9JEEOHgPQZ0dFtzs5ML.jpg', 'release_date': '2025-04-23', 'title': 'Bullet Train Explosion', 'video': False, 'vote_average': 6.065, 'vote_count': 31}, {'adult': False, 'backdrop_path': '/pulJ1iY7GVeppMRipiR7ZGDW7EW.jpg', 'genre_ids': [18], 'id': 615, 'original_language': 'en', 'original_title': 'The Passion of the Christ', 'overview': \"A graphic portrayal of the last twelve hours of Jesus of Nazareth's life.\", 'popularity': 142.0027, 'poster_path': '/v9f9MMrq2nGQrN7cHnQRmEq9lSE.jpg', 'release_date': '2004-02-25', 'title': 'The Passion of the Christ', 'video': False, 'vote_average': 7.52, 'vote_count': 4816}, {'adult': False, 'backdrop_path': '/qiVrapzgrDO7c6yQTSvn0dhwsn8.jpg', 'genre_ids': [10749, 18], 'id': 1252309, 'original_language': 'es', 'original_title': 'Pídeme lo que quieras', 'overview': \"After his father's death, Eric Zimmerman travels to Spain to oversee his company's branches. In Madrid, he falls for Judith and engage in an intense, erotic relationship full of exploration. However, Eric fears his secret may end their affair.\", 'popularity': 110.6035, 'poster_path': '/k82T5L1utX1G2LhNWeza9nGUKPk.jpg', 'release_date': '2024-11-29', 'title': 'Ask Me What You Want', 'video': False, 'vote_average': 5.9, 'vote_count': 150}, {'adult': False, 'backdrop_path': '/4mM7m9L3XlPLq4vNNy3P8yDSXNM.jpg', 'genre_ids': [53, 80, 18], 'id': 1371202, 'original_language': 'nl', 'original_title': 'iHostage', 'overview': 'When a gunman enters an Apple Store in the heart of Amsterdam, the police face a delicate challenge to resolve the standoff.', 'popularity': 105.0539, 'poster_path': '/h87bgIhs4keL005Ch5aeKhnaAIL.jpg', 'release_date': '2025-04-18', 'title': 'iHostage', 'video': False, 'vote_average': 6.134, 'vote_count': 93}, {'adult': False, 'backdrop_path': '/9OO6I25MHhCDd0XwNk4oZl0fpwB.jpg', 'genre_ids': [28, 18], 'id': 1261050, 'original_language': 'da', 'original_title': 'De lydløse', 'overview': 'In 2008, a group of men from Denmark and across Europe pull off the biggest heist of all time on Danish soil. Kasper, a boxer with few chances left in life, is offered the opportunity to plan the robbery by its foreign initiators.', 'popularity': 82.5806, 'poster_path': '/7NLY1jNwtZX1yVzwVoBeAhaBE8i.jpg', 'release_date': '2024-10-31', 'title': 'The Quiet Ones', 'video': False, 'vote_average': 5.83, 'vote_count': 44}, {'adult': False, 'backdrop_path': '/euYIwmwkmz95mnXvufEmbL6ovhZ.jpg', 'genre_ids': [28, 12, 18], 'id': 558449, 'original_language': 'en', 'original_title': 'Gladiator II', 'overview': 'Years after witnessing the death of the revered hero Maximus at the hands of his uncle, Lucius is forced to enter the Colosseum after his home is conquered by the tyrannical Emperors who now lead Rome with an iron fist. With rage in his heart and the future of the Empire at stake, Lucius must look to his past to find strength and honor to return the glory of Rome to its people.', 'popularity': 76.6272, 'poster_path': '/2cxhvwyEwRlysAmRH4iodkvo0z5.jpg', 'release_date': '2024-11-13', 'title': 'Gladiator II', 'video': False, 'vote_average': 6.751, 'vote_count': 3235}, {'adult': False, 'backdrop_path': '/oz4U9eA6ilYf1tyiVuGmkftdLac.jpg', 'genre_ids': [10749, 18], 'id': 1010581, 'original_language': 'es', 'original_title': 'Culpa mía', 'overview': \"Noah must leave her city, boyfriend, and friends to move into William Leister's mansion, the flashy and wealthy husband of her mother Rafaela. As a proud and independent 17 year old, Noah resists living in a mansion surrounded by luxury. However, it is there where she meets Nick, her new stepbrother, and the clash of their strong personalities becomes evident from the very beginning.\", 'popularity': 74.957, 'poster_path': '/w46Vw536HwNnEzOa7J24YH9DPRS.jpg', 'release_date': '2023-06-08', 'title': 'My Fault', 'video': False, 'vote_average': 7.817, 'vote_count': 3657}, {'adult': False, 'backdrop_path': '/olExC8areYxKPu3pmKWRsgPz0Et.jpg', 'genre_ids': [35, 18], 'id': 1226572, 'original_language': 'hi', 'original_title': 'सुपरबॉय्ज़ ऑफ मालेगाँव', 'overview': 'The residents of Malegaon look to Bollywood cinema for a much-needed escape from daily drudgery. Amateur filmmaker Nasir Shaikh gets inspired to make a film for the people of Malegaon, by the people of Malegaon. He bands together his ragtag group of friends to bring his vision to life, thereby bringing a fresh lease of life into the town.', 'popularity': 72.7127, 'poster_path': '/l5PDjfWpC9uY5HdF5cbsJ4wjqoq.jpg', 'release_date': '2025-02-28', 'title': 'Superboys of Malegaon', 'video': False, 'vote_average': 8.0, 'vote_count': 8}, {'adult': False, 'backdrop_path': '/jl2YIADk391yc6Qjy9JhgCRkHJk.jpg', 'genre_ids': [16, 18, 35], 'id': 1064486, 'original_language': 'en', 'original_title': 'Memoir of a Snail', 'overview': 'Forcibly separated from her twin brother when they are orphaned, a melancholic misfit learns how to find confidence within herself amid the clutter of misfortunes and everyday life.', 'popularity': 69.4858, 'poster_path': '/57AgZv1ITeBLShiNdchZ5153evs.jpg', 'release_date': '2024-10-17', 'title': 'Memoir of a Snail', 'video': False, 'vote_average': 7.968, 'vote_count': 436}, {'adult': False, 'backdrop_path': '/7cNE2qydew1c8fqnlhWjkE3DHc2.jpg', 'genre_ids': [28, 18, 12, 10752], 'id': 927342, 'original_language': 'ta', 'original_title': 'அமரன்', 'overview': 'A heroic true story of Major Mukund Varadarajan, an Indian Army officer who displayed extraordinary bravery during a counterterrorism mission in Kashmir’s Shopian district. The film captures his courage in protecting his nation and the devotion of his wife Indhu Rebecaa Varghese.', 'popularity': 64.0608, 'poster_path': '/eCB06m1KUGilEOlIzb40nkQhVY0.jpg', 'release_date': '2024-10-31', 'title': 'Amaran', 'video': False, 'vote_average': 7.4, 'vote_count': 222}, {'adult': False, 'backdrop_path': '/tPpYGm2mVecue7Bk3gNVoSPA5qn.jpg', 'genre_ids': [28, 12, 878, 18], 'id': 315635, 'original_language': 'en', 'original_title': 'Spider-Man: Homecoming', 'overview': 'Following the events of Captain America: Civil War, Peter Parker, with the help of his mentor Tony Stark, tries to balance his life as an ordinary high school student in Queens, New York City, with fighting crime as his superhero alter ego Spider-Man as a new threat, the Vulture, emerges.', 'popularity': 57.3578, 'poster_path': '/c24sv2weTHPsmDa7jEMN0m2P3RT.jpg', 'release_date': '2017-07-05', 'title': 'Spider-Man: Homecoming', 'video': False, 'vote_average': 7.331, 'vote_count': 22151}, {'adult': False, 'backdrop_path': '/k24eZq5I3jyz4htPkZCRpnUmBzE.jpg', 'genre_ids': [10749, 18], 'id': 1156593, 'original_language': 'es', 'original_title': 'Culpa tuya', 'overview': \"The love between Noah and Nick seems unwavering despite their parents' attempts to separate them. But his job and her entry into college open up their lives to new relationships that will shake the foundations of both their relationship and the Leister family itself.\", 'popularity': 56.9704, 'poster_path': '/1sQA7lfcF9yUyoLYC0e6Zo3jmxE.jpg', 'release_date': '2024-12-26', 'title': 'Your Fault', 'video': False, 'vote_average': 7.14, 'vote_count': 1219}, {'adult': False, 'backdrop_path': '/rthMuZfFv4fqEU4JVbgSW9wQ8rs.jpg', 'genre_ids': [12, 18, 28], 'id': 986056, 'original_language': 'en', 'original_title': 'Thunderbolts*', 'overview': 'After finding themselves ensnared in a death trap, seven disillusioned castoffs must embark on a dangerous mission that will force them to confront the darkest corners of their pasts.', 'popularity': 56.8247, 'poster_path': '/hqcexYHbiTBfDIdDWxrxPtVndBX.jpg', 'release_date': '2025-04-30', 'title': 'Thunderbolts*', 'video': False, 'vote_average': 7.9, 'vote_count': 9}, {'adult': False, 'backdrop_path': '/iWb6Kj2qDLPXut8JEvZb2xfwILH.jpg', 'genre_ids': [35, 18], 'id': 1086548, 'original_language': 'es', 'original_title': 'Vera y el placer de los otros', 'overview': '17-year-old Vera divides her days between volleyball and school and has a good time with friends like an average teenager. She appears to be a perfect daughter who never gets into trouble. But she has a secret hobby: she anonymously rents out an empty apartment to teenagers looking for a place to have sex. She steals the keys from her distracted mother (who manages different properties) and organizes everything. The teenagers come and go, using the apartment for a few uninterrupted hours making Vera the saviour of all their needs. With that she unlocks a new world for herself – playing invisible, Vera stays behind the closed door; her own sexual desires unfolding as she listens to other people’s pleasure.', 'popularity': 55.5239, 'poster_path': '/e0ESGyso9K95glbbnTRenFfCC7l.jpg', 'release_date': '2024-09-26', 'title': 'Vera and the Pleasure of Others', 'video': False, 'vote_average': 6.857, 'vote_count': 7}, {'adult': False, 'backdrop_path': '/1TUg5pO1VZ4B0Q1amk3OlXvlpXV.jpg', 'genre_ids': [12, 18, 10751, 16], 'id': 420818, 'original_language': 'en', 'original_title': 'The Lion King', 'overview': \"Simba idolizes his father, King Mufasa, and takes to heart his own royal destiny. But not everyone in the kingdom celebrates the new cub's arrival. Scar, Mufasa's brother—and former heir to the throne—has plans of his own. The battle for Pride Rock is ravaged with betrayal, tragedy and drama, ultimately resulting in Simba's exile. With help from a curious pair of newfound friends, Simba will have to figure out how to grow up and take back what is rightfully his.\", 'popularity': 53.5223, 'poster_path': '/dzBtMocZuJbjLOXvrl4zGYigDzh.jpg', 'release_date': '2019-07-12', 'title': 'The Lion King', 'video': False, 'vote_average': 7.11, 'vote_count': 10325}, {'adult': False, 'backdrop_path': '/7TF4p86ZafnxFuNqWdhpHXFO244.jpg', 'genre_ids': [18, 80], 'id': 769, 'original_language': 'en', 'original_title': 'GoodFellas', 'overview': 'The true story of Henry Hill, a half-Irish, half-Sicilian Brooklyn kid who is adopted by neighbourhood gangsters at an early age and climbs the ranks of a Mafia family under the guidance of Jimmy Conway.', 'popularity': 53.0322, 'poster_path': '/aKuFiU82s5ISJpGZp7YkIr3kCUd.jpg', 'release_date': '1990-09-12', 'title': 'GoodFellas', 'video': False, 'vote_average': 8.455, 'vote_count': 13310}, {'adult': False, 'backdrop_path': '/3bWUP9kyf9BxVc0hmZdqXB2w4UP.jpg', 'genre_ids': [878, 18], 'id': 335984, 'original_language': 'en', 'original_title': 'Blade Runner 2049', 'overview': \"Thirty years after the events of the first film, a new blade runner, LAPD Officer K, unearths a long-buried secret that has the potential to plunge what's left of society into chaos. K's discovery leads him on a quest to find Rick Deckard, a former LAPD blade runner who has been missing for 30 years.\", 'popularity': 52.8605, 'poster_path': '/gajva2L0rPYkEWjzgFlBXCAVBE5.jpg', 'release_date': '2017-10-04', 'title': 'Blade Runner 2049', 'video': False, 'vote_average': 7.578, 'vote_count': 14055}, {'adult': False, 'backdrop_path': '/9ctmJLf3uUngYkwHbRttukm2n5l.jpg', 'genre_ids': [18, 9648, 53], 'id': 1233575, 'original_language': 'en', 'original_title': 'Black Bag', 'overview': 'When intelligence agent Kathryn Woodhouse is suspected of betraying the nation, her husband – also a legendary agent – faces the ultimate test of whether to be loyal to his marriage, or his country.', 'popularity': 49.554, 'poster_path': '/hHPovtU4b96LHcoeEwRkGHI5btw.jpg', 'release_date': '2025-03-12', 'title': 'Black Bag', 'video': False, 'vote_average': 6.301, 'vote_count': 395}], 'total_pages': 12482, 'total_results': 249635}"
      ]
     },
     "execution_count": 3,
     "metadata": {},
     "output_type": "execute_result"
    }
   ],
   "source": [
    "# Setup TMDb with your API key\n",
    "tmdb = TMDb()\n",
    "tmdb.api_key = '2fa30f6a1d22eb80c6dc9cac9cc67bdc'\n",
    "# Create a Discover instance\n",
    "discover = Discover()\n",
    "\n",
    "# Get top drama movies sorted by popularity\n",
    "# Genre ID 18 is for Drama\n",
    "drama_movies = discover.discover_movies({\n",
    "    'with_genres': 18,\n",
    "    'sort_by': 'popularity.desc',\n",
    "    'page': 1\n",
    "})\n",
    "\n",
    "drama_movies"
   ]
  },
  {
   "cell_type": "code",
   "execution_count": null,
   "id": "f95c1bbe",
   "metadata": {},
   "outputs": [],
   "source": [
    "def explore_features(api_key, pages=5, sort_by=\"popularity.desc\"):\n",
    "    \"\"\"\n",
    "    Fetch the first `pages` pages of TMDb discover results and compute\n",
    "    min/max for popularity, vote_average, vote_count, and release_year.\n",
    "    \"\"\"\n",
    "    tmdb = TMDb()\n",
    "    tmdb.api_key = api_key\n",
    "    discover = Discover()\n",
    "\n",
    "    records = []\n",
    "    for page in range(1, pages + 1):\n",
    "        params = {\n",
    "            \"sort_by\": sort_by,\n",
    "            \"page\": page\n",
    "        }\n",
    "        movies = discover.discover_movies(params)\n",
    "        for m in movies:\n",
    "            # parse release year\n",
    "            year = None\n",
    "            if m.release_date:\n",
    "                try:\n",
    "                    year = datetime.strptime(m.release_date, \"%Y-%m-%d\").year\n",
    "                except ValueError:\n",
    "                    pass\n",
    "            records.append({\n",
    "                \"popularity\": m.popularity,\n",
    "                \"vote_average\": m.vote_average,\n",
    "                \"vote_count\": m.vote_count,\n",
    "                \"release_year\": year\n",
    "            })\n",
    "\n",
    "    df = pd.DataFrame(records)\n",
    "    stats = df.agg({\n",
    "        \"popularity\": [\"min\", \"max\"],\n",
    "        \"vote_average\": [\"min\", \"max\"],\n",
    "        \"vote_count\": [\"min\", \"max\"],\n",
    "        \"release_year\": [\"min\", \"max\"]\n",
    "    })\n",
    "    return stats\n"
   ]
  },
  {
   "cell_type": "code",
   "execution_count": 5,
   "id": "e673890b",
   "metadata": {},
   "outputs": [
    {
     "name": "stdout",
     "output_type": "stream",
     "text": [
      "     popularity  vote_average  vote_count  release_year\n",
      "min     39.5407         3.400           2          1966\n",
      "max    942.1209         8.489       37002          2025\n"
     ]
    }
   ],
   "source": [
    "tmdb.api_key = 'TMDB_API_KEY'\n",
    "print(explore_features('2fa30f6a1d22eb80c6dc9cac9cc67bdc', pages=5, sort_by=\"popularity.desc\"))"
   ]
  },
  {
   "cell_type": "code",
   "execution_count": 6,
   "id": "f870ee97",
   "metadata": {},
   "outputs": [
    {
     "name": "stdout",
     "output_type": "stream",
     "text": [
      "     popularity  vote_average  vote_count  release_year\n",
      "min     39.5407         3.400           2          1966\n",
      "max    942.1209         8.489       37002          2025\n"
     ]
    }
   ],
   "source": [
    "df = explore_features('2fa30f6a1d22eb80c6dc9cac9cc67bdc', pages=5, sort_by=\"popularity.desc\")\n",
    "print(df.head())"
   ]
  },
  {
   "cell_type": "code",
   "execution_count": 7,
   "id": "97678988",
   "metadata": {},
   "outputs": [
    {
     "name": "stdout",
     "output_type": "stream",
     "text": [
      "Popularity: 130.0792 to 942.1209\n",
      "Vote Avg: 5.286 to 7.732\n",
      "Vote Count: 15 to 4816\n",
      "Release Date: 2004-02-25 to 2025-04-23\n"
     ]
    }
   ],
   "source": [
    "#Max / Min of popularity, vote_average, vote_count, release_date\n",
    "movies = discover.discover_movies({'page': 1})\n",
    "pops   = [m.popularity    for m in movies]\n",
    "votes  = [m.vote_average  for m in movies]\n",
    "counts = [m.vote_count    for m in movies]\n",
    "dates  = [m.release_date  for m in movies]\n",
    "\n",
    "print(\"Popularity:\",   min(pops), \"to\", max(pops))\n",
    "print(\"Vote Avg:\",     min(votes), \"to\", max(votes))\n",
    "print(\"Vote Count:\",   min(counts), \"to\", max(counts))\n",
    "print(\"Release Date:\", min(dates), \"to\", max(dates))\n"
   ]
  },
  {
   "cell_type": "code",
   "execution_count": 9,
   "id": "3bf4055f",
   "metadata": {},
   "outputs": [
    {
     "name": "stdout",
     "output_type": "stream",
     "text": [
      "Results per call: 20\n"
     ]
    }
   ],
   "source": [
    "#Number of APi calls per page \n",
    "movies = discover.discover_movies({'page': 1})\n",
    "print(\"Results per call:\", len(movies))\n"
   ]
  },
  {
   "cell_type": "code",
   "execution_count": 10,
   "id": "823ca317",
   "metadata": {},
   "outputs": [
    {
     "data": {
      "text/plain": [
       "{'page': 1, 'results': [{'adult': False, 'backdrop_path': '/qiVrapzgrDO7c6yQTSvn0dhwsn8.jpg', 'genre_ids': [10749, 18], 'id': 1252309, 'original_language': 'es', 'original_title': 'Pídeme lo que quieras', 'overview': \"After his father's death, Eric Zimmerman travels to Spain to oversee his company's branches. In Madrid, he falls for Judith and engage in an intense, erotic relationship full of exploration. However, Eric fears his secret may end their affair.\", 'popularity': 110.6035, 'poster_path': '/k82T5L1utX1G2LhNWeza9nGUKPk.jpg', 'release_date': '2024-11-29', 'title': 'Ask Me What You Want', 'video': False, 'vote_average': 5.9, 'vote_count': 150}, {'adult': False, 'backdrop_path': '/oz4U9eA6ilYf1tyiVuGmkftdLac.jpg', 'genre_ids': [10749, 18], 'id': 1010581, 'original_language': 'es', 'original_title': 'Culpa mía', 'overview': \"Noah must leave her city, boyfriend, and friends to move into William Leister's mansion, the flashy and wealthy husband of her mother Rafaela. As a proud and independent 17 year old, Noah resists living in a mansion surrounded by luxury. However, it is there where she meets Nick, her new stepbrother, and the clash of their strong personalities becomes evident from the very beginning.\", 'popularity': 74.957, 'poster_path': '/w46Vw536HwNnEzOa7J24YH9DPRS.jpg', 'release_date': '2023-06-08', 'title': 'My Fault', 'video': False, 'vote_average': 7.817, 'vote_count': 3657}, {'adult': False, 'backdrop_path': '/k24eZq5I3jyz4htPkZCRpnUmBzE.jpg', 'genre_ids': [10749, 18], 'id': 1156593, 'original_language': 'es', 'original_title': 'Culpa tuya', 'overview': \"The love between Noah and Nick seems unwavering despite their parents' attempts to separate them. But his job and her entry into college open up their lives to new relationships that will shake the foundations of both their relationship and the Leister family itself.\", 'popularity': 56.9704, 'poster_path': '/1sQA7lfcF9yUyoLYC0e6Zo3jmxE.jpg', 'release_date': '2024-12-26', 'title': 'Your Fault', 'video': False, 'vote_average': 7.14, 'vote_count': 1219}, {'adult': False, 'backdrop_path': '/sCzcYW9h55WcesOqA12cgEr9Exw.jpg', 'genre_ids': [18, 10749], 'id': 597, 'original_language': 'en', 'original_title': 'Titanic', 'overview': \"101-year-old Rose DeWitt Bukater tells the story of her life aboard the Titanic, 84 years later. A young Rose boards the ship with her mother and fiancé. Meanwhile, Jack Dawson and Fabrizio De Rossi win third-class tickets aboard the ship. Rose tells the whole story from Titanic's departure through to its death—on its first and last voyage—on April 15, 1912.\", 'popularity': 45.5309, 'poster_path': '/9xjZS2rlVxm8SFx8kPC3aIGCOYQ.jpg', 'release_date': '1997-11-18', 'title': 'Titanic', 'video': False, 'vote_average': 7.905, 'vote_count': 25922}, {'adult': False, 'backdrop_path': '/4YN6AfYIKyfZ1aB0cYEWROv76nU.jpg', 'genre_ids': [18, 35, 10749], 'id': 1064213, 'original_language': 'en', 'original_title': 'Anora', 'overview': 'A young sex worker from Brooklyn gets her chance at a Cinderella story when she meets and impulsively marries the son of an oligarch. Once the news reaches Russia, her fairytale is threatened as his parents set out to get the marriage annulled.', 'popularity': 44.8249, 'poster_path': '/7MrgIUeq0DD2iF7GR6wqJfYZNeC.jpg', 'release_date': '2024-10-14', 'title': 'Anora', 'video': False, 'vote_average': 7.053, 'vote_count': 2070}, {'adult': False, 'backdrop_path': '/uJK0jjJ8QDOQw5lcNBwu059ht4D.jpg', 'genre_ids': [10749, 18], 'id': 1294203, 'original_language': 'en', 'original_title': 'My Fault: London', 'overview': \"18-year-old Noah moves from America to London, with her mother who's recently fallen in love with William, a wealthy British businessman. Noah meets William’s son, bad-boy Nick, and soon discovers there is an attraction between them neither can avoid. As Noah spends the summer adjusting to her new life, her devastating past will catch up with her while falling in love for the first time.\", 'popularity': 43.0999, 'poster_path': '/ttN5D6GKOwKWHmCzDGctAvaNMAi.jpg', 'release_date': '2025-02-12', 'title': 'My Fault: London', 'video': False, 'vote_average': 7.45, 'vote_count': 380}, {'adult': False, 'backdrop_path': '/4ybnt8HD4slaCykBXNZwZaLd5LQ.jpg', 'genre_ids': [10749, 35, 18], 'id': 1254786, 'original_language': 'en', 'original_title': 'The Life List', 'overview': 'When her mother sends her on a quest to complete a teenage bucket list, a young woman uncovers family secrets, finds romance — and rediscovers herself.', 'popularity': 41.6142, 'poster_path': '/5fg98cVo7da7OIK45csdLSd4NaU.jpg', 'release_date': '2025-03-27', 'title': 'The Life List', 'video': False, 'vote_average': 6.841, 'vote_count': 314}, {'adult': False, 'backdrop_path': '/y73agOAJDvO48WbvuRt4rZrcFw3.jpg', 'genre_ids': [10749, 18], 'id': 829557, 'original_language': 'pl', 'original_title': '365 dni: Ten dzień', 'overview': \"Laura and Massimo are back and hotter than ever. But the reunited couple's new beginning is complicated by Massimo’s family ties and a mysterious man who enters Laura’s life to win her heart and trust, at any cost.\", 'popularity': 39.3367, 'poster_path': '/iLmG3HCXVyqXYbFvUO1rfOeGa3Z.jpg', 'release_date': '2022-04-26', 'title': '365 Days: This Day', 'video': False, 'vote_average': 5.897, 'vote_count': 1699}, {'adult': False, 'backdrop_path': '/x4OYcZVHggyZHOrvkCo2HH9kLkF.jpg', 'genre_ids': [18, 10749], 'id': 4348, 'original_language': 'en', 'original_title': 'Pride & Prejudice', 'overview': \"A story of love and life among the landed English gentry during the Georgian era. Mr. Bennet is a gentleman living in Hertfordshire with his overbearing wife and five daughters, but if he dies their house will be inherited by a distant cousin whom they have never met, so the family's future happiness and security is dependent on the daughters making good marriages.\", 'popularity': 32.0588, 'poster_path': '/sGjIvtVvTlWnia2zfJfHz81pZ9Q.jpg', 'release_date': '2005-09-16', 'title': 'Pride & Prejudice', 'video': False, 'vote_average': 8.066, 'vote_count': 8211}, {'adult': False, 'backdrop_path': '/xqO4sV74bfXpk4Yh5K9Yqa11Jcj.jpg', 'genre_ids': [10749, 18, 878], 'id': 1167366, 'original_language': 'th', 'original_title': 'ยูเรนัส 2324', 'overview': 'Bonded in their youth and separated by tragedy, an astronaut and a free diver bend the laws of space and time in their efforts to be together again.', 'popularity': 30.8811, 'poster_path': '/zTD9HytRG1nfP5pdOAYmPyXj05d.jpg', 'release_date': '2024-07-04', 'title': 'Uranus 2324', 'video': False, 'vote_average': 7.049, 'vote_count': 72}, {'adult': False, 'backdrop_path': '/uKb22E0nlzr914bA9KyA5CVCOlV.jpg', 'genre_ids': [18, 10749, 14], 'id': 402431, 'original_language': 'en', 'original_title': 'Wicked', 'overview': \"In the land of Oz, ostracized and misunderstood green-skinned Elphaba is forced to share a room with the popular aristocrat Glinda at Shiz University, and the two's unlikely friendship is tested as they begin to fulfill their respective destinies as Glinda the Good and the Wicked Witch of the West.\", 'popularity': 29.4217, 'poster_path': '/xDGbZ0JJ3mYaGKy4Nzd9Kph6M9L.jpg', 'release_date': '2024-11-20', 'title': 'Wicked', 'video': False, 'vote_average': 6.929, 'vote_count': 2068}, {'adult': False, 'backdrop_path': '/30TgnSvXiL7NQoQ5WWwHqw0FRhA.jpg', 'genre_ids': [18, 10749], 'id': 48650, 'original_language': 'es', 'original_title': 'Habitación en Roma', 'overview': 'A hotel room in the center of Rome serves as the setting for Alba and Natasha, two sexy and recently acquainted women, to have a physical adventure that touches their very souls.', 'popularity': 28.6819, 'poster_path': '/gx2ENSap1D4nbjcz7cLLAs4S3fy.jpg', 'release_date': '2010-05-07', 'title': 'Room in Rome', 'video': False, 'vote_average': 6.404, 'vote_count': 764}, {'adult': False, 'backdrop_path': '/weAYfu6FfrNxEDJ3xH1XpgQcqUv.jpg', 'genre_ids': [14, 18, 10749], 'id': 8966, 'original_language': 'en', 'original_title': 'Twilight', 'overview': \"When Bella Swan moves to a small town in the Pacific Northwest, she falls in love with Edward Cullen, a mysterious classmate who reveals himself to be a 108-year-old vampire. Despite Edward's repeated cautions, Bella can't stay away from him, a fatal move that endangers her own life.\", 'popularity': 27.5879, 'poster_path': '/3Gkb6jm6962ADUPaCBqzz9CTbn9.jpg', 'release_date': '2008-11-20', 'title': 'Twilight', 'video': False, 'vote_average': 6.288, 'vote_count': 13761}, {'adult': False, 'backdrop_path': '/d1YxrmqIzS30haejpT7DcJMz3Md.jpg', 'genre_ids': [18, 10749, 14], 'id': 1059372, 'original_language': 'id', 'original_title': 'Dear David', 'overview': 'A secret fantasy blog might jeopardize the promising future of Laras, a talented student, when the blog is revealed to her entire school.', 'popularity': 27.5709, 'poster_path': '/Ab1OedAN42deqjIkOu7X94nJwkG.jpg', 'release_date': '2023-02-09', 'title': 'Dear David', 'video': False, 'vote_average': 6.097, 'vote_count': 36}, {'adult': False, 'backdrop_path': '/ghgfzbEV7kbpbi1O8eIILKVXEA8.jpg', 'genre_ids': [35, 18, 10749], 'id': 13, 'original_language': 'en', 'original_title': 'Forrest Gump', 'overview': 'A man with a low IQ has accomplished great things in his life and been present during significant historic events—in each case, far exceeding what anyone imagined he could do. But despite all he has achieved, his one true love eludes him.', 'popularity': 26.9118, 'poster_path': '/arw2vcBveWOVZr6pxd9XTd1TdQa.jpg', 'release_date': '1994-06-23', 'title': 'Forrest Gump', 'video': False, 'vote_average': 8.468, 'vote_count': 28130}, {'adult': False, 'backdrop_path': '/jHeoDYaoMs004f0feNo0eGBKVw1.jpg', 'genre_ids': [18, 10749], 'id': 1450436, 'original_language': 'tl', 'original_title': 'Puri for Rent', 'overview': 'Aiko Garcia plays a desperate woman thrust into an unusual job. In desperate need of money after getting fired, Nancy finds herself accepting a job as a young and rich disabled man’s sexual partner. But can she let go of her dignity when the sex leads to love?', 'popularity': 25.2808, 'poster_path': '/ry9AWnoAABgxAEzc3BwLHgf1H1b.jpg', 'release_date': '2025-04-04', 'title': 'Puri for Rent', 'video': False, 'vote_average': 7.2, 'vote_count': 5}, {'adult': False, 'backdrop_path': '/j0Ce4AsZi34NKYUZr61lh0PBQ7G.jpg', 'genre_ids': [10749, 18], 'id': 11036, 'original_language': 'en', 'original_title': 'The Notebook', 'overview': \"An epic love story centered around an older man who reads aloud to a woman with Alzheimer's. From a faded notebook, the old man's words bring to life the story about a couple who is separated by World War II, and is then passionately reunited, seven years later, after they have taken different paths.\", 'popularity': 25.1555, 'poster_path': '/rNzQyW4f8B8cQeg7Dgj3n6eT5k9.jpg', 'release_date': '2004-05-25', 'title': 'The Notebook', 'video': False, 'vote_average': 7.889, 'vote_count': 11832}, {'adult': False, 'backdrop_path': '/2T4bqHgYfzXNQoALJsvhW40kDTg.jpg', 'genre_ids': [10749, 18, 36], 'id': 167073, 'original_language': 'en', 'original_title': 'Brooklyn', 'overview': 'In 1950s Ireland and New York, young Eilis Lacey has to choose between two men and two countries.', 'popularity': 24.0066, 'poster_path': '/cs7W8j5lI7qzRW6tKSj9p1Q0Ze7.jpg', 'release_date': '2015-10-20', 'title': 'Brooklyn', 'video': False, 'vote_average': 7.313, 'vote_count': 3119}, {'adult': False, 'backdrop_path': '/wcUohmHc9oDZXarXDp905TYVui4.jpg', 'genre_ids': [18, 10749], 'id': 82023, 'original_language': 'de', 'original_title': 'Hotel Desire', 'overview': 'Antonia is a single mother who works as a hotel maid in Berlin. A normal hot summer day takes a dramatic turn when she crosses paths with a particular guest of the hotel, famous blind portrait painter Julius Pass.', 'popularity': 23.6205, 'poster_path': '/myzQj8Rk178DrWsiZjVKjz7Kj9P.jpg', 'release_date': '2011-12-07', 'title': 'Hotel Desire', 'video': False, 'vote_average': 6.0, 'vote_count': 119}, {'adult': False, 'backdrop_path': '/997ToEZvF2Obp9zNZbY5ELVnmrW.jpg', 'genre_ids': [10749, 18], 'id': 537915, 'original_language': 'en', 'original_title': 'After', 'overview': \"Tessa Young is a dedicated student, dutiful daughter and loyal girlfriend to her high school sweetheart. Entering her first semester of college, Tessa's guarded world opens up when she meets Hardin Scott, a mysterious and brooding rebel who makes her question all she thought she knew about herself -- and what she wants out of life.\", 'popularity': 23.4507, 'poster_path': '/u3B2YKUjWABcxXZ6Nm9h10hLUbh.jpg', 'release_date': '2019-04-11', 'title': 'After', 'video': False, 'vote_average': 7.122, 'vote_count': 8327}], 'total_pages': 1532, 'total_results': 30629}"
      ]
     },
     "execution_count": 10,
     "metadata": {},
     "output_type": "execute_result"
    }
   ],
   "source": [
    "discover.discover_movies({\n",
    "    'with_genres': '18,10749',  # Drama + Romance\n",
    "    'sort_by': 'popularity.desc',\n",
    "    'page': 1\n",
    "})"
   ]
  },
  {
   "cell_type": "code",
   "execution_count": 42,
   "id": "acd54128",
   "metadata": {},
   "outputs": [],
   "source": [
    "def recommend_movies(\n",
    "    genre_id: int,\n",
    "    preference: str = \"newer\",\n",
    "    top_n: int    = 5,\n",
    "    weight_pop: float = 0.5,\n",
    "    weight_vote: float = 0.5\n",
    "):\n",
    "    \"\"\"\n",
    "    Fetch page 1 for `genre_id`, score by weighted(popularity, vote_average),\n",
    "    filter by age (≤5 yrs new vs >5 yrs old), return top_n dicts.\n",
    "    \"\"\"\n",
    "    current_year = datetime.now().year\n",
    "    raw = discover.discover_movies({\n",
    "        \"with_genres\": genre_id,\n",
    "        \"sort_by\":     \"popularity.desc\",\n",
    "        \"page\":        1\n",
    "    })\n",
    "    scored = []\n",
    "    for m in raw:\n",
    "        try:\n",
    "            year = int(m.release_date[:4])\n",
    "        except:\n",
    "            continue\n",
    "        age = current_year - year\n",
    "        if preference == \"newer\" and age > 5:  continue\n",
    "        if preference == \"older\" and age <= 5: continue\n",
    "        score = weight_pop * m.popularity + weight_vote * m.vote_average\n",
    "        scored.append({\"title\": m.title, \"year\": year, \"score\": score})\n",
    "    return sorted(scored, key=lambda x: x[\"score\"], reverse=True)[:top_n]\n"
   ]
  },
  {
   "cell_type": "code",
   "execution_count": 43,
   "id": "828545d4",
   "metadata": {},
   "outputs": [],
   "source": [
    "class MoviePlugin:\n",
    "    @kernel_function(description=\"Recommend movies by genre, date preference, and number of results\")\n",
    "    def recommend(self, genre_id: str, preference: str = \"newer\", top_n: str = \"5\") -> str:\n",
    "        recs = recommend_movies(\n",
    "            genre_id=int(genre_id),\n",
    "            preference=preference,\n",
    "            top_n=int(top_n)\n",
    "        )\n",
    "        lines = [f\"{i+1}. {m['title']} ({m['year']}) — score={m['score']:.2f}\"\n",
    "                 for i, m in enumerate(recs)]\n",
    "        return \"\\n\".join(lines)\n"
   ]
  },
  {
   "cell_type": "code",
   "execution_count": 13,
   "id": "e5af9074",
   "metadata": {},
   "outputs": [
    {
     "name": "stdout",
     "output_type": "stream",
     "text": [
      "Endpoint: https://<your-resource>.openai.azure.com/\n"
     ]
    }
   ],
   "source": [
    "from dotenv import load_dotenv\n",
    "import os\n",
    "\n",
    "load_dotenv(override=True)\n",
    "print(\"Endpoint:\", os.getenv(\"AZURE_OPENAI_ENDPOINT\"))\n"
   ]
  },
  {
   "cell_type": "code",
   "execution_count": 14,
   "id": "ccbb03ce",
   "metadata": {},
   "outputs": [],
   "source": [
    "import os \n",
    "from typing import Annotated\n",
    "from openai import AsyncOpenAI\n",
    "\n",
    "from dotenv import load_dotenv\n",
    "\n",
    "from semantic_kernel.agents import ChatCompletionAgent, ChatHistoryAgentThread\n",
    "from semantic_kernel.connectors.ai.open_ai import OpenAIChatCompletion\n",
    "from semantic_kernel.functions import kernel_function"
   ]
  },
  {
   "cell_type": "code",
   "execution_count": 15,
   "id": "d9ec9da0",
   "metadata": {},
   "outputs": [],
   "source": [
    "load_dotenv()\n",
    "client = AsyncOpenAI(\n",
    "    api_key=os.environ.get(\"GITHUB_TOKEN\"), \n",
    "    base_url=\"https://models.inference.ai.azure.com/\",\n",
    ")\n",
    "\n",
    "# Create an AI Service that will be used by the `ChatCompletionAgent`\n",
    "chat_completion_service = OpenAIChatCompletion(\n",
    "    ai_model_id=\"gpt-4o-mini\",\n",
    "    async_client=client,\n",
    ")"
   ]
  },
  {
   "cell_type": "code",
   "execution_count": null,
   "id": "39da738c",
   "metadata": {},
   "outputs": [],
   "source": [
    "#Defining MoviePlugin Skill\n",
    "class MoviePlugin:\n",
    "    @kernel_function(description=\"Recommend movies by genre, date preference, and number of results\")\n",
    "    def recommend(self, genre_id: str, preference: str = \"newer\", top_n: str = \"5\") -> str:\n",
    "        recs = recommendations(\n",
    "            genre_id=int(genre_id),\n",
    "            preference=preference,\n",
    "            top_n=int(top_n)\n",
    "        )\n",
    "        return \"\\n\".join(\n",
    "            f\"{i+1}. {m['title']} ({m['year']}) — score={m['score']:.2f}\"\n",
    "            for i, m in enumerate(recs)\n",
    "        )"
   ]
  },
  {
   "cell_type": "code",
   "execution_count": null,
   "id": "35fb0f60",
   "metadata": {},
   "outputs": [
    {
     "name": "stdout",
     "output_type": "stream",
     "text": [
      "Official TMDb genres:\n",
      "  action          → 28\n",
      "  adventure       → 12\n",
      "  animation       → 16\n",
      "  comedy          → 35\n",
      "  crime           → 80\n",
      "  documentary     → 99\n",
      "  drama           → 18\n",
      "  family          → 10751\n",
      "  fantasy         → 14\n",
      "  history         → 36\n",
      "  horror          → 27\n",
      "  music           → 10402\n",
      "  mystery         → 9648\n",
      "  romance         → 10749\n",
      "  science fiction → 878\n",
      "  tv movie        → 10770\n",
      "  thriller        → 53\n",
      "  war             → 10752\n",
      "  western         → 37\n"
     ]
    }
   ],
   "source": [
    "\n",
    "# 1) Initialize TMDb client\n",
    "tmdb = TMDb()\n",
    "tmdb.api_key ='2fa30f6a1d22eb80c6dc9cac9cc67bdc'\n",
    "\n",
    "# 2) Fetches the official list of movie genres\n",
    "genre_client = Genre()\n",
    "all_genres = genre_client.movie_list()  \n",
    "\n",
    "# 3) Build a lookup dict\n",
    "GENRE_MAP = {g.name.lower(): g.id for g in all_genres}\n",
    "print(\"Official TMDb genres:\")\n",
    "for name, gid in GENRE_MAP.items():\n",
    "    print(f\"  {name:15s} → {gid}\")\n"
   ]
  },
  {
   "cell_type": "code",
   "execution_count": null,
   "id": "d0dc970e",
   "metadata": {},
   "outputs": [
    {
     "data": {
      "text/plain": [
       "True"
      ]
     },
     "execution_count": 18,
     "metadata": {},
     "output_type": "execute_result"
    }
   ],
   "source": [
    "# OpenAI async client\n",
    "from openai import AsyncOpenAI\n",
    "\n",
    "# Load your .env (TMDB_API_KEY, GITHUB_TOKEN, AZURE_OPENAI_*)\n",
    "load_dotenv()\n"
   ]
  },
  {
   "cell_type": "code",
   "execution_count": 20,
   "id": "cd868f44",
   "metadata": {},
   "outputs": [
    {
     "name": "stdout",
     "output_type": "stream",
     "text": [
      "Loaded genres: ['action', 'adventure', 'animation', 'comedy', 'crime'] …\n"
     ]
    }
   ],
   "source": [
    "# Initialize TMDb with your API key\n",
    "tmdb = TMDb()\n",
    "tmdb.api_key ='2fa30f6a1d22eb80c6dc9cac9cc67bdc'\n",
    "# Fetch the official list of movie genres\n",
    "genre_client = Genre()\n",
    "all_genres = genre_client.movie_list()\n",
    "\n",
    "# Build a name→ID lookup (lowercased keys)\n",
    "GENRE_MAP = {g.name.lower(): g.id for g in all_genres}\n",
    "\n",
    "# Create a Discover instance for querying movies\n",
    "discover = Discover()\n",
    "\n",
    "# (print to verify\n",
    "print(\"Loaded genres:\", list(GENRE_MAP.keys())[:5], \"…\")\n"
   ]
  },
  {
   "cell_type": "code",
   "execution_count": 23,
   "id": "8c969d12",
   "metadata": {},
   "outputs": [],
   "source": [
    "client = AsyncOpenAI(\n",
    "    api_key=os.environ.get(\"GITHUB_TOKEN\"), \n",
    "    base_url=\"https://models.inference.ai.azure.com/\",\n",
    ")\n",
    "\n",
    "# Create an AI Service that will be used by the `ChatCompletionAgent`\n",
    "chat_completion_service = OpenAIChatCompletion(\n",
    "    ai_model_id=\"gpt-4o-mini\",\n",
    "    async_client=client,\n",
    ")\n"
   ]
  },
  {
   "cell_type": "code",
   "execution_count": 34,
   "id": "12f9ea8c",
   "metadata": {},
   "outputs": [],
   "source": [
    "\n",
    "agent = ChatCompletionAgent(\n",
    "    service=chat_completion_service, \n",
    "    plugins=[MoviePlugin()],\n",
    "    name=\"MovieAgent\",\n",
    "    instructions=\"You will identify the preferred genres that the customer wants based on their prompt\",\n",
    ")"
   ]
  },
  {
   "cell_type": "code",
   "execution_count": 37,
   "id": "ce4e429a",
   "metadata": {},
   "outputs": [],
   "source": [
    "class MoviePlugin:\n",
    "    @kernel_function(\n",
    "        description=\"Recommend movies by genre (name or ID), date preference, and number of results\"\n",
    "    )\n",
    "    def recommend(\n",
    "        self,\n",
    "        genre: str,\n",
    "        preference: str = \"newer\",\n",
    "        top_n: str    = \"5\"\n",
    "    ) -> str:\n",
    "        if genre.isdigit():\n",
    "            gid = int(genre)\n",
    "        else:\n",
    "            gid = GENRE_MAP.get(genre.lower())\n",
    "            if gid is None:\n",
    "                return (\n",
    "                    f\"Unknown genre '{genre}'. \"\n",
    "                    f\"Available: {', '.join(GENRE_MAP.keys())}\"\n",
    "                )\n",
    "        try:\n",
    "            n = int(top_n)\n",
    "        except:\n",
    "            n = 5\n",
    "\n",
    "        recs = recommend_movies(genre_id=gid, preference=preference, top_n=n)\n",
    "\n",
    "        return \"\\n\".join(\n",
    "            f\"{i+1}. {m['title']} ({m['year']}) — score={m['score']:.2f}\"\n",
    "            for i, m in enumerate(recs)\n",
    "        )\n"
   ]
  },
  {
   "cell_type": "code",
   "execution_count": null,
   "id": "2d669d14",
   "metadata": {},
   "outputs": [
    {
     "data": {
      "text/html": [
       "<div style='margin-bottom:10px'><div style='font-weight:bold'>User:</div><div style='margin-left:20px'>I like comedy movies recommend me some.</div></div><div style='margin-bottom:20px'><div style='font-weight:bold'>MovieAgent:</div><div style='margin-left:20px; white-space:pre-wrap'>Here are some comedy movies you might enjoy:\n",
       "\n",
       "1. **A Minecraft Movie** (2025) — score=245.71\n",
       "2. **Novocaine** (2025) — score=125.62\n",
       "3. **Moana 2** (2024) — score=77.06\n",
       "4. **Sonic the Hedgehog 3** (2024) — score=74.78\n",
       "5. **Laila** (2025) — score=64.22\n",
       "\n",
       "Enjoy watching!</div></div><hr>"
      ],
      "text/plain": [
       "<IPython.core.display.HTML object>"
      ]
     },
     "metadata": {},
     "output_type": "display_data"
    },
    {
     "data": {
      "text/html": [
       "<div style='margin-bottom:10px'><div style='font-weight:bold'>User:</div><div style='margin-left:20px'>I don't like that one, please show me horror.</div></div><div style='margin-bottom:20px'><div style='font-weight:bold'>MovieAgent:</div><div style='margin-left:20px; white-space:pre-wrap'>Here are some horror movies you might find interesting:\n",
       "\n",
       "1. **Sinners** (2025) — score=137.30\n",
       "2. **The Woman in the Yard** (2025) — score=119.31\n",
       "3. **Home Sweet Home: Rebirth** (2025) — score=71.21\n",
       "4. **A Knight's War** (2025) — score=68.72\n",
       "5. **Locked** (2025) — score=50.39\n",
       "\n",
       "Enjoy the thrill!</div></div><hr>"
      ],
      "text/plain": [
       "<IPython.core.display.HTML object>"
      ]
     },
     "metadata": {},
     "output_type": "display_data"
    }
   ],
   "source": [
    "user_inputs = [\n",
    "    \"I like comedy movies recommend me some.\",\n",
    "    \"I don't like that one, please show me horror.\",\n",
    "]\n",
    "\n",
    "async def main():\n",
    "    thread: ChatHistoryAgentThread | None = None\n",
    "\n",
    "    for user_input in user_inputs:\n",
    "        html_output = (\n",
    "            f\"<div style='margin-bottom:10px'>\"\n",
    "            f\"<div style='font-weight:bold'>User:</div>\"\n",
    "            f\"<div style='margin-left:20px'>{user_input}</div></div>\"\n",
    "        )\n",
    "\n",
    "        agent_name = None\n",
    "        full_response: list[str] = []\n",
    "        function_calls: list[str] = []\n",
    "\n",
    "        # Buffer to reconstruct streaming function call\n",
    "        current_function_name = None\n",
    "        argument_buffer = \"\"\n",
    "\n",
    "        async for response in agent.invoke_stream(\n",
    "            messages=user_input,\n",
    "            thread=thread,\n",
    "        ):\n",
    "            thread = response.thread\n",
    "            agent_name = response.name\n",
    "            content_items = list(response.items)\n",
    "\n",
    "            for item in content_items:\n",
    "                if isinstance(item, FunctionCallContent):\n",
    "                    if item.function_name:\n",
    "                        current_function_name = item.function_name\n",
    "\n",
    "                    # Accumulate arguments (streamed in chunks)\n",
    "                    if isinstance(item.arguments, str):\n",
    "                        argument_buffer += item.arguments\n",
    "                elif isinstance(item, FunctionResultContent):\n",
    "                    # Finalize any pending function call before showing result\n",
    "                    if current_function_name:\n",
    "                        formatted_args = argument_buffer.strip()\n",
    "                        try:\n",
    "                            parsed_args = json.loads(formatted_args)\n",
    "                            formatted_args = json.dumps(parsed_args)\n",
    "                        except Exception:\n",
    "                            pass  \n",
    "\n",
    "                        function_calls.append(f\"Calling function: {current_function_name}({formatted_args})\")\n",
    "                        current_function_name = None\n",
    "                        argument_buffer = \"\"\n",
    "\n",
    "                    function_calls.append(f\"\\nFunction Result:\\n\\n{item.result}\")\n",
    "                elif isinstance(item, StreamingTextContent) and item.text:\n",
    "                    full_response.append(item.text)\n",
    "\n",
    "        if function_calls:\n",
    "            html_output += (\n",
    "                \"<div style='margin-bottom:10px'>\"\n",
    "                \"<details>\"\n",
    "                \"<summary style='cursor:pointer; font-weight:bold; color:#0066cc;'>Function Calls (click to expand)</summary>\"\n",
    "                \"<div style='margin:10px; padding:10px; background-color:#f8f8f8; \"\n",
    "                \"border:1px solid #ddd; border-radius:4px; white-space:pre-wrap; font-size:14px; color:#333;'>\"\n",
    "                f\"{chr(10).join(function_calls)}\"\n",
    "                \"</div></details></div>\"\n",
    "            )\n",
    "\n",
    "        html_output += (\n",
    "            \"<div style='margin-bottom:20px'>\"\n",
    "            f\"<div style='font-weight:bold'>{agent_name or 'Assistant'}:</div>\"\n",
    "            f\"<div style='margin-left:20px; white-space:pre-wrap'>{''.join(full_response)}</div></div><hr>\"\n",
    "        )\n",
    "\n",
    "        display(HTML(html_output))\n",
    "\n",
    "await main()"
   ]
  },
  {
   "cell_type": "code",
   "execution_count": null,
   "id": "d7ca31b2",
   "metadata": {},
   "outputs": [],
   "source": [
    "#Important note to reader the way the score is calculated is the following : \n",
    "# The “score” you’re seeing under the hood is just a simple weighted combination of each movie’s popularity and its vote_average.\n",
    "# I put the weights as equal importance; \n",
    "# However we can tweak this later but so far, based on rating seen online, it seems to be following the correct logic."
   ]
  }
 ],
 "metadata": {
  "kernelspec": {
   "display_name": "Python 3",
   "language": "python",
   "name": "python3"
  },
  "language_info": {
   "codemirror_mode": {
    "name": "ipython",
    "version": 3
   },
   "file_extension": ".py",
   "mimetype": "text/x-python",
   "name": "python",
   "nbconvert_exporter": "python",
   "pygments_lexer": "ipython3",
   "version": "3.11.11"
  }
 },
 "nbformat": 4,
 "nbformat_minor": 5
}
